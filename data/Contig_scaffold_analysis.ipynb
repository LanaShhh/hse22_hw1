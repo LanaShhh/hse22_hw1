{
  "nbformat": 4,
  "nbformat_minor": 0,
  "metadata": {
    "colab": {
      "provenance": []
    },
    "kernelspec": {
      "name": "python3",
      "display_name": "Python 3"
    },
    "language_info": {
      "name": "python"
    }
  },
  "cells": [
    {
      "cell_type": "markdown",
      "source": [
        "# Подсчёт статистики"
      ],
      "metadata": {
        "id": "I4oinMCJsxOa"
      }
    },
    {
      "cell_type": "markdown",
      "source": [
        "Напишем функцию, которая будет считать все необходимое (общее кол-во контигов(скаффолдов), их общую длину, длину самого длинного контига(скаффолда), N50)"
      ],
      "metadata": {
        "id": "V9RZ1y46sIwr"
      }
    },
    {
      "cell_type": "code",
      "source": [
        "def make_analysis(filepath):\n",
        "    seq_len_array = []\n",
        "    seq_len_sum = 0\n",
        "    seq_num = 0\n",
        "    max_seq = ''\n",
        "    cur_seq = ''\n",
        "    file = open(filepath, 'r')\n",
        "    for line in file:\n",
        "        if line[0] == '>':\n",
        "            if len(cur_seq) > 0:\n",
        "                seq_num += 1\n",
        "                seq_len_sum += len(cur_seq)\n",
        "                seq_len_array.append(cur_seq)\n",
        "                if len(cur_seq) > len(max_seq):\n",
        "                    max_seq = cur_seq\n",
        "            cur_seq = \"\"\n",
        "        else:\n",
        "            cur_seq += line.strip()\n",
        "    if len(cur_seq) > 0:\n",
        "        seq_num += 1\n",
        "        seq_len_sum += len(cur_seq)\n",
        "        if len(cur_seq) > 0:\n",
        "            seq_len_array.append(cur_seq)\n",
        "        if len(cur_seq) > len(max_seq):\n",
        "            max_seq = cur_seq\n",
        "        cur_seq = \"\"\n",
        "\n",
        "    seq_len_array.sort(reverse=True, key=lambda x: len(x))\n",
        "\n",
        "    score = 0\n",
        "    for seq in seq_len_array:\n",
        "        score += len(seq)\n",
        "        if score * 2 >= seq_len_sum:\n",
        "            print(\"File stats:\")\n",
        "            print(f\"Total number: {seq_num}\")\n",
        "            print(f\"Total length: {seq_len_sum}\")\n",
        "            print(f\"Max length: {len(max_seq)}\")\n",
        "            print(f\"N50: {len(seq)}\")\n",
        "            break\n",
        "    return max_seq"
      ],
      "metadata": {
        "id": "eHpQdn6gifRd"
      },
      "execution_count": 92,
      "outputs": []
    },
    {
      "cell_type": "markdown",
      "source": [
        "Посчитаем статистику для контигов, и сохраним наидлиннейший контиг"
      ],
      "metadata": {
        "id": "1amasQMlsW7P"
      }
    },
    {
      "cell_type": "code",
      "execution_count": 93,
      "metadata": {
        "colab": {
          "base_uri": "https://localhost:8080/"
        },
        "id": "vaqVtbCveyAX",
        "outputId": "4c8afaca-ab2a-45ff-dc7b-1976004abc88"
      },
      "outputs": [
        {
          "output_type": "stream",
          "name": "stdout",
          "text": [
            "File stats:\n",
            "Total number: 597\n",
            "Total length: 3924101\n",
            "Max length: 179307\n",
            "N50: 51042\n"
          ]
        }
      ],
      "source": [
        "max_contig = make_analysis(\"Poil_contig.fa\")"
      ]
    },
    {
      "cell_type": "markdown",
      "source": [
        "Теперь посчитаем ту же статистику для скаффолдов, и сохраним наидлиннейший"
      ],
      "metadata": {
        "id": "Kp-0sZmLsbom"
      }
    },
    {
      "cell_type": "code",
      "source": [
        "max_scaffold = make_analysis(\"Poil_scaffold.fa\")"
      ],
      "metadata": {
        "colab": {
          "base_uri": "https://localhost:8080/"
        },
        "id": "nEc6UjXqqm2i",
        "outputId": "e8b4b05c-4053-4757-af86-f1ca0cb661ae"
      },
      "execution_count": 94,
      "outputs": [
        {
          "output_type": "stream",
          "name": "stdout",
          "text": [
            "File stats:\n",
            "Total number: 67\n",
            "Total length: 3873552\n",
            "Max length: 3831479\n",
            "N50: 3831479\n"
          ]
        }
      ]
    },
    {
      "cell_type": "markdown",
      "source": [
        "# Подсчет гэпов"
      ],
      "metadata": {
        "id": "XUlbqleTs09t"
      }
    },
    {
      "cell_type": "code",
      "source": [
        "import re"
      ],
      "metadata": {
        "id": "g2k_7Tt5xBJh"
      },
      "execution_count": 95,
      "outputs": []
    },
    {
      "cell_type": "markdown",
      "source": [
        "Функция для подсчета"
      ],
      "metadata": {
        "id": "2W3xc3ARtGT0"
      }
    },
    {
      "cell_type": "code",
      "source": [
        "def count_gap_stats(scaff):\n",
        "    print(f'Total gap length: {scaff.count(\"N\")}')\n",
        "    def_scaff = re.sub(r\"N{2,}\", \"N\", scaff)\n",
        "    print(f'Number of gaps: {def_scaff.count(\"N\")}')\n",
        "    return"
      ],
      "metadata": {
        "id": "mWfgMtYTs3E0"
      },
      "execution_count": 96,
      "outputs": []
    },
    {
      "cell_type": "markdown",
      "source": [
        "Посчитаем для максимального из неподрезанных чтений"
      ],
      "metadata": {
        "id": "ReLTHxJ3vTPQ"
      }
    },
    {
      "cell_type": "code",
      "source": [
        "count_gap_stats(max_scaffold)"
      ],
      "metadata": {
        "colab": {
          "base_uri": "https://localhost:8080/"
        },
        "id": "2NG7CFQZt44p",
        "outputId": "910aebe9-ecd0-4045-fe0a-020976302d51"
      },
      "execution_count": 97,
      "outputs": [
        {
          "output_type": "stream",
          "name": "stdout",
          "text": [
            "Total gap length: 6699\n",
            "Number of gaps: 58\n"
          ]
        }
      ]
    },
    {
      "cell_type": "markdown",
      "source": [
        "Посчитаем для максимального из подрезанных чтений"
      ],
      "metadata": {
        "id": "lrzWtkI5vcmU"
      }
    },
    {
      "cell_type": "code",
      "source": [
        "max_cut_scaffold = make_analysis(\"Poil_gap_closed.fa\")"
      ],
      "metadata": {
        "colab": {
          "base_uri": "https://localhost:8080/"
        },
        "id": "uYBFmY1LuCI9",
        "outputId": "01532b4c-39c5-4ed5-e0b6-a84136bbafc2"
      },
      "execution_count": 98,
      "outputs": [
        {
          "output_type": "stream",
          "name": "stdout",
          "text": [
            "File stats:\n",
            "Total number: 67\n",
            "Total length: 3911840\n",
            "Max length: 3869521\n",
            "N50: 3869521\n"
          ]
        }
      ]
    },
    {
      "cell_type": "code",
      "source": [
        "count_gap_stats(max_cut_scaffold)"
      ],
      "metadata": {
        "colab": {
          "base_uri": "https://localhost:8080/"
        },
        "id": "MWbvs2Ifwl3v",
        "outputId": "aac7b778-b2dd-4656-e64c-a01b0c6deda4"
      },
      "execution_count": 99,
      "outputs": [
        {
          "output_type": "stream",
          "name": "stdout",
          "text": [
            "Total gap length: 2916\n",
            "Number of gaps: 10\n"
          ]
        }
      ]
    }
  ]
}